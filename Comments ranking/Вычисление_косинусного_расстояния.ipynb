{
  "nbformat": 4,
  "nbformat_minor": 0,
  "metadata": {
    "colab": {
      "provenance": []
    },
    "kernelspec": {
      "name": "python3",
      "display_name": "Python 3"
    },
    "language_info": {
      "name": "python"
    },
    "accelerator": "GPU",
    "gpuClass": "standard"
  },
  "cells": [
    {
      "cell_type": "markdown",
      "source": [
        "## Начинаем вычисление векторов и косинусных расстояний"
      ],
      "metadata": {
        "id": "qHqsbTJvdUSt"
      }
    },
    {
      "cell_type": "code",
      "source": [
        "import torch\n",
        "from sentence_transformers import utils, SentenceTransformer"
      ],
      "metadata": {
        "id": "BWJyrkFEVZMg"
      },
      "execution_count": null,
      "outputs": []
    },
    {
      "cell_type": "code",
      "source": [
        "model = SentenceTransformer('paraphrase-MiniLM-L3-v2')"
      ],
      "metadata": {
        "id": "ofec-A4LEJwn"
      },
      "execution_count": null,
      "outputs": []
    },
    {
      "cell_type": "code",
      "source": [
        "model.max_seq_length = 512"
      ],
      "metadata": {
        "id": "ZVm9n_56QPwp"
      },
      "execution_count": null,
      "outputs": []
    },
    {
      "cell_type": "code",
      "source": [
        "post_embeddings = []\n",
        "res = torch.zeros((df_train.shape[0], 384))\n",
        "res.shape"
      ],
      "metadata": {
        "colab": {
          "base_uri": "https://localhost:8080/"
        },
        "id": "PN202WoywCtc",
        "outputId": "e7493242-5dce-4bd0-eccc-06222b84ed79"
      },
      "execution_count": null,
      "outputs": [
        {
          "output_type": "execute_result",
          "data": {
            "text/plain": [
              "torch.Size([440535, 384])"
            ]
          },
          "metadata": {},
          "execution_count": 66
        }
      ]
    },
    {
      "cell_type": "code",
      "source": [
        "from tqdm import tqdm\n",
        "\n",
        "cur_i = 0\n",
        "for i in tqdm(range(0, df_train.shape[0])):\n",
        "  text = df_train.iloc[i]['cleaned_comment_text']\n",
        "  emb = model.encode(text, convert_to_tensor=True)\n",
        "  res[cur_i] = emb\n",
        "  cur_i += 1"
      ],
      "metadata": {
        "colab": {
          "base_uri": "https://localhost:8080/"
        },
        "id": "kl6_d1qQQQaB",
        "outputId": "60e75653-cda6-4a22-d98b-0b6af91a0539"
      },
      "execution_count": null,
      "outputs": [
        {
          "output_type": "stream",
          "name": "stderr",
          "text": [
            "100%|██████████| 440535/440535 [40:41<00:00, 180.41it/s]\n"
          ]
        }
      ]
    },
    {
      "cell_type": "code",
      "source": [
        "torch.save(res, '/content/drive/MyDrive/it_cup/comment_embs.pt')"
      ],
      "metadata": {
        "id": "HXVZeRAIR45_"
      },
      "execution_count": null,
      "outputs": []
    },
    {
      "cell_type": "code",
      "source": [
        "res_post = torch.zeros((88107, 384))"
      ],
      "metadata": {
        "id": "mbwEQfkOV7tq"
      },
      "execution_count": null,
      "outputs": []
    },
    {
      "cell_type": "code",
      "source": [
        "cur_i = 0\n",
        "for i in tqdm(range(0, df_train.shape[0], 5)):\n",
        "  text = df_train.iloc[i]['cleaned_post_text']\n",
        "  emb = model.encode(text, convert_to_tensor=True)\n",
        "  res_post[cur_i] = emb\n",
        "  cur_i += 1"
      ],
      "metadata": {
        "colab": {
          "base_uri": "https://localhost:8080/"
        },
        "id": "ENdVT03kWUra",
        "outputId": "e8019c66-09c1-4647-a4a0-69701076628a"
      },
      "execution_count": null,
      "outputs": [
        {
          "output_type": "stream",
          "name": "stderr",
          "text": [
            "100%|██████████| 88107/88107 [06:49<00:00, 215.25it/s]\n"
          ]
        }
      ]
    },
    {
      "cell_type": "code",
      "source": [
        "torch.save(res_post, '/content/drive/MyDrive/it_cup/post_embs.pt')"
      ],
      "metadata": {
        "id": "hX25cGxDXIuE"
      },
      "execution_count": null,
      "outputs": []
    },
    {
      "cell_type": "code",
      "source": [
        "reps = torch.tensor([5 for i in range(88107)])"
      ],
      "metadata": {
        "id": "_GofbDnIW-LB"
      },
      "execution_count": null,
      "outputs": []
    },
    {
      "cell_type": "code",
      "source": [
        "post_res_rep = torch.repeat_interleave(res_post, reps, dim=0)"
      ],
      "metadata": {
        "id": "UxRD1StFW1BF"
      },
      "execution_count": null,
      "outputs": []
    },
    {
      "cell_type": "code",
      "source": [
        "from sentence_transformers import util"
      ],
      "metadata": {
        "id": "2xFg9jMihxPf"
      },
      "execution_count": null,
      "outputs": []
    },
    {
      "cell_type": "code",
      "source": [
        "cosine_similarity = []"
      ],
      "metadata": {
        "id": "CMBMzjTDZepp"
      },
      "execution_count": null,
      "outputs": []
    },
    {
      "cell_type": "code",
      "source": [
        "for i in tqdm(range(df_train.shape[0])):\n",
        "  cosine_similarity.append(util.cos_sim(res[i], post_res_rep[i]))"
      ],
      "metadata": {
        "colab": {
          "base_uri": "https://localhost:8080/"
        },
        "id": "yrGBdsfSa607",
        "outputId": "2802c781-10d3-4427-96f3-a57c6bda428c"
      },
      "execution_count": null,
      "outputs": [
        {
          "output_type": "stream",
          "name": "stderr",
          "text": [
            "100%|██████████| 440535/440535 [00:32<00:00, 13383.64it/s]\n"
          ]
        }
      ]
    },
    {
      "cell_type": "code",
      "source": [
        "cos_sim_vec = torch.tensor(cosine_similarity)"
      ],
      "metadata": {
        "id": "DTc6P5ddiEoK"
      },
      "execution_count": null,
      "outputs": []
    },
    {
      "cell_type": "code",
      "source": [
        "torch.save(cos_sim_vec, '/content/drive/MyDrive/it_cup/cos_sim_vec.pt')"
      ],
      "metadata": {
        "id": "WYQNFIn0iUT0"
      },
      "execution_count": null,
      "outputs": []
    },
    {
      "cell_type": "markdown",
      "source": [
        "### Для тестовой выборки"
      ],
      "metadata": {
        "id": "AodQJBxMj8zC"
      }
    },
    {
      "cell_type": "code",
      "source": [
        "res = torch.zeros((df_test.shape[0], 384))\n",
        "res.shape"
      ],
      "metadata": {
        "colab": {
          "base_uri": "https://localhost:8080/"
        },
        "id": "egREinEfj_fh",
        "outputId": "51a55fb2-52eb-476e-fdc8-5a2745df3db1"
      },
      "execution_count": null,
      "outputs": [
        {
          "output_type": "execute_result",
          "data": {
            "text/plain": [
              "torch.Size([70020, 384])"
            ]
          },
          "metadata": {},
          "execution_count": 50
        }
      ]
    },
    {
      "cell_type": "code",
      "source": [
        "cur_i = 0\n",
        "for i in tqdm(range(0, df_test.shape[0])):\n",
        "  text = df_test.iloc[i]['cleaned_comment_text']\n",
        "  emb = model.encode(text, convert_to_tensor=True)\n",
        "  res[cur_i] = emb\n",
        "  cur_i += 1"
      ],
      "metadata": {
        "colab": {
          "base_uri": "https://localhost:8080/"
        },
        "id": "P8aN6aIVkjZT",
        "outputId": "bdaf08dd-626c-4e4c-ded2-4caf197d23d5"
      },
      "execution_count": null,
      "outputs": [
        {
          "output_type": "stream",
          "name": "stderr",
          "text": [
            "100%|██████████| 70020/70020 [07:50<00:00, 148.79it/s]\n"
          ]
        }
      ]
    },
    {
      "cell_type": "code",
      "source": [
        "torch.save(res, '/content/drive/MyDrive/it_cup/test_coms_embs.pt')"
      ],
      "metadata": {
        "id": "MPW0L33rkoaH"
      },
      "execution_count": null,
      "outputs": []
    },
    {
      "cell_type": "code",
      "source": [
        "res_post = torch.zeros((df_test.shape[0] // 5, 384))"
      ],
      "metadata": {
        "id": "w7akPpwzk6A7"
      },
      "execution_count": null,
      "outputs": []
    },
    {
      "cell_type": "code",
      "source": [
        "cur_i = 0\n",
        "for i in tqdm(range(0, df_test.shape[0], 5)):\n",
        "  text = df_test.iloc[i]['cleaned_post_text']\n",
        "  emb = model.encode(text, convert_to_tensor=True)\n",
        "  res[cur_i] = emb\n",
        "  cur_i += 1"
      ],
      "metadata": {
        "colab": {
          "base_uri": "https://localhost:8080/"
        },
        "id": "Lod4gStKl7u2",
        "outputId": "9b7048bb-8fe0-401a-be30-a9ce836c65a2"
      },
      "execution_count": null,
      "outputs": [
        {
          "output_type": "stream",
          "name": "stderr",
          "text": [
            "100%|██████████| 14004/14004 [01:07<00:00, 206.15it/s]\n"
          ]
        }
      ]
    },
    {
      "cell_type": "code",
      "source": [
        "torch.save(res_post, '/content/drive/MyDrive/it_cup/test_post_embs.pt')"
      ],
      "metadata": {
        "id": "UbkY04Stmbq-"
      },
      "execution_count": null,
      "outputs": []
    },
    {
      "cell_type": "code",
      "source": [
        "reps = torch.tensor([5 for i in range(df_test.shape[0]//5)])"
      ],
      "metadata": {
        "id": "fu8t2QFJmixC"
      },
      "execution_count": null,
      "outputs": []
    },
    {
      "cell_type": "code",
      "source": [
        "post_res_rep = torch.repeat_interleave(res_post, reps, dim=0)"
      ],
      "metadata": {
        "id": "hnTVovzinJu9"
      },
      "execution_count": null,
      "outputs": []
    },
    {
      "cell_type": "code",
      "source": [
        "cos_sim_test = []"
      ],
      "metadata": {
        "id": "qfuIIzfHnX_V"
      },
      "execution_count": null,
      "outputs": []
    },
    {
      "cell_type": "code",
      "source": [
        "for i in range(df_test.shape[0]):\n",
        "  cos_sim_test.append(util.cos_sim(res[i], post_res_rep[i]))"
      ],
      "metadata": {
        "id": "wn4_caiDnZwn"
      },
      "execution_count": null,
      "outputs": []
    },
    {
      "cell_type": "code",
      "source": [
        "cos_sim_test_arr = torch.tensor(cos_sim_test)"
      ],
      "metadata": {
        "id": "mBSRS7yYnlsk"
      },
      "execution_count": null,
      "outputs": []
    },
    {
      "cell_type": "code",
      "source": [
        "torch.save(cos_sim_test_arr, '/content/drive/MyDrive/it_cup/cos_sim_test.pt')"
      ],
      "metadata": {
        "id": "qPgqDFc6nplE"
      },
      "execution_count": null,
      "outputs": []
    },
    {
      "cell_type": "code",
      "source": [],
      "metadata": {
        "id": "CzbwiuTvnwdj"
      },
      "execution_count": null,
      "outputs": []
    }
  ]
}